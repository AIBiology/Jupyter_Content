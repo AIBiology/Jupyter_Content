{
 "cells": [
  {
   "cell_type": "markdown",
   "id": "78b0f55c-d07e-434b-89e9-4d3e6ef44217",
   "metadata": {},
   "source": [
    "# From neuron to neural net\n",
    "\n",
    "Last time, we looked at a single neuron. We discussed the parallels between that neuron with two weights and linear regression. As we add more features (columns in our X matrix) we can add more neurons.\n",
    "\n",
    "## Activation Functions\n",
    "\n",
    "But, as we add neurons, each neuron is still mostly functioning like linear regression. The next thing we can add to our neuron is an **activation function**. Activation functions adjust the output of a neuron by adding some function before the final output. Below are the \"linear\" activation function that we have modeled so far, plus the more common **ReLU (Rectified Linear Unit)** and **Sigmoid** activation functions.\n",
    "\n",
    "![Diagrams of the linear, ReLU and Sigmoid activation functions](images/Activation_function_diagrams.png)\n",
    "\n",
    "\n",
    "Again, the activation function is applied to the output of a neuron and is a hyperparameter of the model. In practice, while layers may use different activation functions, the same function is applied to **all neurons** of each layer. Below is a single neuron, with the a couple possible activation functions.\n",
    "\n",
    "![Diagram of a neuron with activation function](images/Activation_function.png)\n",
    "\n",
    "## Layers\n",
    "\n",
    "As we get multiple neurons, we need some way of coordinating their output, so we can add a layer to gather the output from multiple neurons into the needed number of outputs (more on that later). But the other thing that layers do is allow deeper networks with multiple layers, each selected for functional or empirical reasons. This is where deep learning gets its name--as networks grow to have more and more layers of neurons, we refer to them as deep networks--there is no agreed upon cutoff here...more than three???\n",
    "\n",
    "![A two layer neural network](images/Neural_network.png)"
   ]
  },
  {
   "cell_type": "code",
   "execution_count": 1,
   "id": "d91e2c47-066f-4975-936a-473872e2dd49",
   "metadata": {},
   "outputs": [],
   "source": [
    "import pandas as pd\n",
    "import numpy as np\n",
    "import os\n",
    "os.environ['KERAS_BACKEND'] = 'torch'\n",
    "import keras\n",
    "from keras import layers\n",
    "from sklearn.preprocessing import StandardScaler\n",
    "from sklearn.preprocessing import MinMaxScaler"
   ]
  },
  {
   "cell_type": "code",
   "execution_count": 2,
   "id": "36c4cd12-60d9-4697-af61-18d6710dc592",
   "metadata": {},
   "outputs": [
    {
     "data": {
      "text/html": [
       "<div>\n",
       "<style scoped>\n",
       "    .dataframe tbody tr th:only-of-type {\n",
       "        vertical-align: middle;\n",
       "    }\n",
       "\n",
       "    .dataframe tbody tr th {\n",
       "        vertical-align: top;\n",
       "    }\n",
       "\n",
       "    .dataframe thead th {\n",
       "        text-align: right;\n",
       "    }\n",
       "</style>\n",
       "<table border=\"1\" class=\"dataframe\">\n",
       "  <thead>\n",
       "    <tr style=\"text-align: right;\">\n",
       "      <th></th>\n",
       "      <th>Pregnancies</th>\n",
       "      <th>Glucose</th>\n",
       "      <th>BloodPressure</th>\n",
       "      <th>SkinThickness</th>\n",
       "      <th>Insulin</th>\n",
       "      <th>BMI</th>\n",
       "      <th>DiabetesPedigreeFunction</th>\n",
       "      <th>Age</th>\n",
       "      <th>Outcome</th>\n",
       "    </tr>\n",
       "  </thead>\n",
       "  <tbody>\n",
       "    <tr>\n",
       "      <th>0</th>\n",
       "      <td>6</td>\n",
       "      <td>148</td>\n",
       "      <td>72</td>\n",
       "      <td>35</td>\n",
       "      <td>0</td>\n",
       "      <td>33.6</td>\n",
       "      <td>0.627</td>\n",
       "      <td>50</td>\n",
       "      <td>1</td>\n",
       "    </tr>\n",
       "    <tr>\n",
       "      <th>1</th>\n",
       "      <td>1</td>\n",
       "      <td>85</td>\n",
       "      <td>66</td>\n",
       "      <td>29</td>\n",
       "      <td>0</td>\n",
       "      <td>26.6</td>\n",
       "      <td>0.351</td>\n",
       "      <td>31</td>\n",
       "      <td>0</td>\n",
       "    </tr>\n",
       "    <tr>\n",
       "      <th>2</th>\n",
       "      <td>8</td>\n",
       "      <td>183</td>\n",
       "      <td>64</td>\n",
       "      <td>0</td>\n",
       "      <td>0</td>\n",
       "      <td>23.3</td>\n",
       "      <td>0.672</td>\n",
       "      <td>32</td>\n",
       "      <td>1</td>\n",
       "    </tr>\n",
       "    <tr>\n",
       "      <th>3</th>\n",
       "      <td>1</td>\n",
       "      <td>89</td>\n",
       "      <td>66</td>\n",
       "      <td>23</td>\n",
       "      <td>94</td>\n",
       "      <td>28.1</td>\n",
       "      <td>0.167</td>\n",
       "      <td>21</td>\n",
       "      <td>0</td>\n",
       "    </tr>\n",
       "    <tr>\n",
       "      <th>4</th>\n",
       "      <td>0</td>\n",
       "      <td>137</td>\n",
       "      <td>40</td>\n",
       "      <td>35</td>\n",
       "      <td>168</td>\n",
       "      <td>43.1</td>\n",
       "      <td>2.288</td>\n",
       "      <td>33</td>\n",
       "      <td>1</td>\n",
       "    </tr>\n",
       "  </tbody>\n",
       "</table>\n",
       "</div>"
      ],
      "text/plain": [
       "   Pregnancies  Glucose  BloodPressure  SkinThickness  Insulin   BMI  \\\n",
       "0            6      148             72             35        0  33.6   \n",
       "1            1       85             66             29        0  26.6   \n",
       "2            8      183             64              0        0  23.3   \n",
       "3            1       89             66             23       94  28.1   \n",
       "4            0      137             40             35      168  43.1   \n",
       "\n",
       "   DiabetesPedigreeFunction  Age  Outcome  \n",
       "0                     0.627   50        1  \n",
       "1                     0.351   31        0  \n",
       "2                     0.672   32        1  \n",
       "3                     0.167   21        0  \n",
       "4                     2.288   33        1  "
      ]
     },
     "execution_count": 2,
     "metadata": {},
     "output_type": "execute_result"
    }
   ],
   "source": [
    "df = pd.read_csv('data/diabetes.csv')\n",
    "df.head()\n"
   ]
  },
  {
   "cell_type": "code",
   "execution_count": null,
   "id": "698941e0-eb85-4e69-8bc4-6bd33c9841bc",
   "metadata": {},
   "outputs": [],
   "source": [
    "# Get our X and y\n"
   ]
  },
  {
   "cell_type": "code",
   "execution_count": null,
   "id": "f016235d-3e43-41a0-962e-bb691d54c8cc",
   "metadata": {},
   "outputs": [],
   "source": [
    "# Scale data - mean 0 std dev 1\n"
   ]
  },
  {
   "cell_type": "code",
   "execution_count": null,
   "id": "f662467c-7508-453b-b7c3-05b7650c72e4",
   "metadata": {},
   "outputs": [],
   "source": [
    "# Setup our model\n",
    "# 1 Dense layer with 8 neurons, 1 Dense layer with 1 neuron and sigmoid\n",
    "# Sigmoid used for binary classification\n",
    "\n",
    "\n",
    "# Print model summary\n"
   ]
  },
  {
   "cell_type": "code",
   "execution_count": null,
   "id": "f40890b3-56b0-4a6a-ae12-8e9b76d962d3",
   "metadata": {},
   "outputs": [],
   "source": [
    "# Set some model hyperparameters\n",
    "from keras.optimizers import Adam\n",
    "\n",
    "\n",
    "lr = 0.001  # Set the learning rate. Start with default for Adam, 0.001\n",
    "optimizer = Adam(learning_rate=lr)  # Set the optimizer. Start with adam.\n",
    "\n",
    "# Compile the model--a necessary step with Keras models\n",
    "model.compile(loss='binary_crossentropy', optimizer=optimizer, metrics=['accuracy'])"
   ]
  },
  {
   "cell_type": "code",
   "execution_count": null,
   "id": "d6d2b244-fe62-4ea1-8fa5-f96eff349dc7",
   "metadata": {},
   "outputs": [],
   "source": [
    "# Now we can fit the model\n",
    "# Let's also save the training history for plotting\n",
    "\n",
    "\n"
   ]
  },
  {
   "cell_type": "code",
   "execution_count": null,
   "id": "329b451f-99a7-4790-b6b9-c7a2c6c854b7",
   "metadata": {},
   "outputs": [],
   "source": [
    "# Make some nice plots\n",
    "\n",
    "from matplotlib import pyplot as plt\n",
    "plt.plot(history.history['accuracy'])\n",
    "plt.plot(history.history['val_accuracy'])\n",
    "plt.title('model accuracy')\n",
    "plt.ylabel('accuracy')\n",
    "plt.xlabel('epoch')\n",
    "plt.legend(['train', 'test'], loc='upper left')\n",
    "plt.show()\n",
    "# summarize history for loss\n",
    "plt.plot(history.history['loss'])\n",
    "plt.plot(history.history['val_loss'])\n",
    "plt.title('model loss')\n",
    "plt.ylabel('loss')\n",
    "plt.xlabel('epoch')\n",
    "plt.legend(['train', 'test'], loc='upper left')\n",
    "plt.show()\n"
   ]
  },
  {
   "cell_type": "markdown",
   "id": "45da73f2-3970-45c4-8675-d5662341b653",
   "metadata": {},
   "source": [
    "# Experimentation\n",
    "\n",
    "Using what you know so far, try to make the best possible model to predict diabetes with these data.\n",
    "\n",
    "Things to try:\n",
    "\n",
    "* Try normalizing data (all values between 0 and 1)\n",
    "    ```python\n",
    "    # Normalize data - all between 0 and 1\n",
    "    scaler = MinMaxScaler()\n",
    "    X = scaler.fit_transform(X)\n",
    "    ```\n",
    "* Adding layers\n",
    "* Adjusting the number of neurons per layer (you do need to get back to 1 with a sigmoid activation at the end)\n",
    "* Different activation functions\n",
    "* Adjusting the number of epochs\n",
    "* Adjusting learning rate\n"
   ]
  },
  {
   "cell_type": "code",
   "execution_count": null,
   "id": "a7d98cd7-da1b-440a-aacf-0e0e2f4d5b01",
   "metadata": {},
   "outputs": [],
   "source": []
  }
 ],
 "metadata": {
  "kernelspec": {
   "display_name": "dgx",
   "language": "python",
   "name": "python3"
  },
  "language_info": {
   "codemirror_mode": {
    "name": "ipython",
    "version": 3
   },
   "file_extension": ".py",
   "mimetype": "text/x-python",
   "name": "python",
   "nbconvert_exporter": "python",
   "pygments_lexer": "ipython3",
   "version": "3.11.11"
  }
 },
 "nbformat": 4,
 "nbformat_minor": 5
}
